{
 "cells": [
  {
   "cell_type": "markdown",
   "metadata": {},
   "source": [
    "# Applied Data Science Capstone Project - The Battle of Neighborhoods"
   ]
  },
  {
   "cell_type": "markdown",
   "metadata": {},
   "source": [
    "## Best areas (neighborhood) to visit for busy coffee loving travelers while in the city of Toronto, Canada"
   ]
  },
  {
   "cell_type": "markdown",
   "metadata": {},
   "source": [
    "### Introduction/Business Problem"
   ]
  },
  {
   "cell_type": "markdown",
   "metadata": {},
   "source": [
    "Dexter loves visiting non-chain cafes whenever he travels to a new city which he does frequently due to his consultant work. He also loves taking photos from his visits to share with his family. And it happens that he is completing his Coursera data science course and wants to put his newly gained skills to find best spots to visit which will allow him to visit most places even if he has only a few hours to spare.\n",
    "\n",
    "Dexter decides to start with using the data for the city of Toronto since he wants to visit Toronto soon. But once his analysis program works, he can easily use it for other cities around the world he will get to visit soon (hopefully).\n",
    "\n",
    "Dexter would like to be able to identify neighborhoods with most interesting cafes that are easy to get to using local public transportation from his client's location and that are in short walking distance from each other. He also would like to visit nearby neighborhood parks around the area if possible."
   ]
  },
  {
   "cell_type": "markdown",
   "metadata": {},
   "source": [
    "### Data Description"
   ]
  },
  {
   "cell_type": "markdown",
   "metadata": {},
   "source": [
    "For above objectives, we will need data about cafes in Toronto: their names, locations (latitude & longitude), ratings and reviews from other visitors, and even tips.\n",
    "\n",
    "First, to identify the Toronto neighborhoods, we will use the Wikipedia page: https://en.wikipedia.org/wiki/List_of_postal_codes_of_Canada:_M  which contains the postal code, borough and neighborhood names, which will be scraped using Python's libraries and converted to Pandas dataframe.\n",
    "\n",
    "We will limit our searches to boroughs which would have \"Toronto\" in their names. We will then use neighborhood boundaries data from http://cocl.us/Geospatial_data in CSV format which will again be converted to Pandas dataframe.\n",
    "\n",
    "Using the latitude & longitude data for neighborhoods, we will query the Foursquare API for information we are interested in, such as locations of cafes, public transportation stops, and parks and other venues in these neighborhoods to come up with best neighborhoods for Dexter to visit."
   ]
  },
  {
   "cell_type": "markdown",
   "metadata": {},
   "source": []
  },
  {
   "cell_type": "markdown",
   "metadata": {},
   "source": []
  }
 ],
 "metadata": {
  "kernelspec": {
   "display_name": "Python",
   "language": "python",
   "name": "conda-env-python-py"
  },
  "language_info": {
   "codemirror_mode": {
    "name": "ipython",
    "version": 3
   },
   "file_extension": ".py",
   "mimetype": "text/x-python",
   "name": "python",
   "nbconvert_exporter": "python",
   "pygments_lexer": "ipython3",
   "version": "3.6.10"
  }
 },
 "nbformat": 4,
 "nbformat_minor": 4
}
